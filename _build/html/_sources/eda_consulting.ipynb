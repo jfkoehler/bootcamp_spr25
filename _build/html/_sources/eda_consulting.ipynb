{
 "cells": [
  {
   "cell_type": "markdown",
   "id": "747ce7ab-5fbe-4d02-93ab-3a1ca018c756",
   "metadata": {},
   "source": [
    "### Retail Consultant Challenge\n",
    "\n",
    "![](images/slappy_van.png)\n",
    "\n",
    "> Town and Country Skateboards was founded in 2021 in the village of Scotia, New York.  In its nearly four years of existence, the shop has built up a solid customer base in the area.  They sell a variety of skateboard related products and softgoods (pants, hats, socks, sneakers, etc.) as well as having a bowl in the rear of the shop for skate sessions.  While there is consistent activity in the shop, sales are down and they are seeking ideas for boosting -- especially in the winter months.\n",
    "\n",
    "\n",
    "They have provided data for the past few years sales as well as information about products and their sales in order to get you started. The urls for this data are shared below.  Your task is to develop as many exploratory questions as you can about the data and then use numeric and graphical strategies to explore answers to the questions.  After exploring the data, your goal is to highlight key findings and consider what other information you need from the company and other questions raised as a result of your analysis."
   ]
  },
  {
   "cell_type": "code",
   "execution_count": null,
   "id": "1abf693b-3d30-447b-be2b-390b459b1ee4",
   "metadata": {},
   "outputs": [],
   "source": []
  },
  {
   "cell_type": "code",
   "execution_count": null,
   "id": "9073dcc9-5cf5-46f3-a8ac-51906d1c9a4d",
   "metadata": {},
   "outputs": [],
   "source": []
  },
  {
   "cell_type": "code",
   "execution_count": null,
   "id": "df3fb293-743b-4595-a671-32a7b63f024a",
   "metadata": {},
   "outputs": [],
   "source": []
  },
  {
   "cell_type": "code",
   "execution_count": null,
   "id": "e8f7ee00-5797-40ef-9321-196f891b02ff",
   "metadata": {},
   "outputs": [],
   "source": []
  },
  {
   "cell_type": "code",
   "execution_count": null,
   "id": "41b5d4c4-21f2-4572-9904-4232aa3452b0",
   "metadata": {},
   "outputs": [],
   "source": []
  },
  {
   "cell_type": "code",
   "execution_count": null,
   "id": "91cbae57-7197-4320-8296-6785c8ee65d2",
   "metadata": {},
   "outputs": [],
   "source": []
  },
  {
   "cell_type": "code",
   "execution_count": null,
   "id": "a5620140-c03b-429f-816d-3da38cf8e42d",
   "metadata": {},
   "outputs": [],
   "source": []
  }
 ],
 "metadata": {
  "kernelspec": {
   "display_name": "Python 3 (ipykernel)",
   "language": "python",
   "name": "python3"
  },
  "language_info": {
   "codemirror_mode": {
    "name": "ipython",
    "version": 3
   },
   "file_extension": ".py",
   "mimetype": "text/x-python",
   "name": "python",
   "nbconvert_exporter": "python",
   "pygments_lexer": "ipython3",
   "version": "3.12.0"
  }
 },
 "nbformat": 4,
 "nbformat_minor": 5
}
