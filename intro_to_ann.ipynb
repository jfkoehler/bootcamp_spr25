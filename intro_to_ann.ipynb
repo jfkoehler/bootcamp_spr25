{
  "nbformat": 4,
  "nbformat_minor": 0,
  "metadata": {
    "colab": {
      "provenance": []
    },
    "kernelspec": {
      "name": "python3",
      "display_name": "Python 3"
    },
    "language_info": {
      "name": "python"
    }
  },
  "cells": [
    {
      "cell_type": "markdown",
      "source": [
        "### Regression with `pytorch`"
      ],
      "metadata": {
        "id": "ECmuJPUEgG4E"
      }
    },
    {
      "cell_type": "code",
      "execution_count": null,
      "metadata": {
        "id": "YaGA1uPbaLCE"
      },
      "outputs": [],
      "source": [
        "import numpy as np\n",
        "import torch\n",
        "import torch.nn as nn\n",
        "import torch.optim as optim\n",
        "\n",
        "import matplotlib.pyplot as plt"
      ]
    },
    {
      "cell_type": "code",
      "source": [
        "a = np.random.normal(size = (30, 10))"
      ],
      "metadata": {
        "id": "HbPEiuUYjvh9"
      },
      "execution_count": null,
      "outputs": []
    },
    {
      "cell_type": "code",
      "source": [
        "# a.T"
      ],
      "metadata": {
        "id": "4lzO0NJwj2Xl"
      },
      "execution_count": null,
      "outputs": []
    },
    {
      "cell_type": "code",
      "source": [
        "x = np.linspace(0, 10, 100)\n",
        "y = 3*x + np.random.normal(size = len(x), scale = 3)"
      ],
      "metadata": {
        "id": "2vuaqcp2cezQ"
      },
      "execution_count": null,
      "outputs": []
    },
    {
      "cell_type": "code",
      "source": [
        "plt.scatter(x, y)"
      ],
      "metadata": {
        "id": "GfQrEt0HcoEC"
      },
      "execution_count": null,
      "outputs": []
    },
    {
      "cell_type": "code",
      "source": [
        "def mse_loss(slope):\n",
        "  return np.mean((y - slope*x)**2)"
      ],
      "metadata": {
        "id": "udByz-FscpRt"
      },
      "execution_count": null,
      "outputs": []
    },
    {
      "cell_type": "code",
      "source": [
        "def dmse(slope):\n",
        "  return 2*np.mean((y - slope*x)*-x)"
      ],
      "metadata": {
        "id": "D--InJxRiK0d"
      },
      "execution_count": null,
      "outputs": []
    },
    {
      "cell_type": "code",
      "source": [
        "first_guess = 1"
      ],
      "metadata": {
        "id": "d1Amk7AviOMI"
      },
      "execution_count": null,
      "outputs": []
    },
    {
      "cell_type": "code",
      "source": [
        "mse_loss(first_guess)"
      ],
      "metadata": {
        "id": "eXKrd_WZibDI"
      },
      "execution_count": null,
      "outputs": []
    },
    {
      "cell_type": "code",
      "source": [
        "step_size = 0.1"
      ],
      "metadata": {
        "id": "wl3jub5njLww"
      },
      "execution_count": null,
      "outputs": []
    },
    {
      "cell_type": "code",
      "source": [
        "second_guess = first_guess - step_size*dmse(first_guess)"
      ],
      "metadata": {
        "id": "WyHHOVqkjBmD"
      },
      "execution_count": null,
      "outputs": []
    },
    {
      "cell_type": "code",
      "source": [
        "second_guess - step_size*dmse(second_guess)"
      ],
      "metadata": {
        "id": "vUoA5UWpjJ_l"
      },
      "execution_count": null,
      "outputs": []
    },
    {
      "cell_type": "code",
      "source": [
        "beta_0 = 1\n",
        "step_size = 0.01\n",
        "betas = [beta_0]\n",
        "for i in range(100):\n",
        "  beta_next = betas[-1] - step_size * dmse(betas[-1])\n",
        "  betas.append(beta_next)"
      ],
      "metadata": {
        "id": "fo2aqNztjXQF"
      },
      "execution_count": null,
      "outputs": []
    },
    {
      "cell_type": "code",
      "source": [
        "betas[-1]"
      ],
      "metadata": {
        "id": "ARrgQMrUj7O0"
      },
      "execution_count": null,
      "outputs": []
    },
    {
      "cell_type": "code",
      "source": [
        "plt.scatter(x, y)\n",
        "plt.plot(x, betas[-1]*x, '--r')"
      ],
      "metadata": {
        "id": "aEfkzTgoj8a6"
      },
      "execution_count": null,
      "outputs": []
    },
    {
      "cell_type": "markdown",
      "source": [
        "#### `pytorch`"
      ],
      "metadata": {
        "id": "oQFNBZjpkFtl"
      }
    },
    {
      "cell_type": "code",
      "source": [
        "layer_1 = nn.Linear(in_features = 1, out_features = 1)"
      ],
      "metadata": {
        "id": "_SXkOPiSkpbW"
      },
      "execution_count": null,
      "outputs": []
    },
    {
      "cell_type": "code",
      "source": [
        "layer_1"
      ],
      "metadata": {
        "id": "ketxSvlnk5Cx"
      },
      "execution_count": null,
      "outputs": []
    },
    {
      "cell_type": "code",
      "source": [
        "list(layer_1.parameters())"
      ],
      "metadata": {
        "id": "YpowLPbJk56J"
      },
      "execution_count": null,
      "outputs": []
    },
    {
      "cell_type": "code",
      "source": [
        "xt = torch.tensor(x, dtype = torch.float32)\n",
        "yt = torch.tensor(y, dtype = torch.float32)"
      ],
      "metadata": {
        "id": "ZeQoRm_IlMVz"
      },
      "execution_count": null,
      "outputs": []
    },
    {
      "cell_type": "code",
      "source": [
        "x.dtype"
      ],
      "metadata": {
        "id": "TypzWcJhnN9P"
      },
      "execution_count": null,
      "outputs": []
    },
    {
      "cell_type": "code",
      "source": [
        "list(layer_1.parameters())"
      ],
      "metadata": {
        "id": "iGj0gDe1laTT"
      },
      "execution_count": null,
      "outputs": []
    },
    {
      "cell_type": "code",
      "source": [
        "xt.shape"
      ],
      "metadata": {
        "id": "XH5wsIxBnlq5"
      },
      "execution_count": null,
      "outputs": []
    },
    {
      "cell_type": "code",
      "source": [
        "xt.unsqueeze(1).shape"
      ],
      "metadata": {
        "id": "g8b0INDJUncW"
      },
      "execution_count": null,
      "outputs": []
    },
    {
      "cell_type": "code",
      "source": [
        "layer_1(xt.unsqueeze(1))"
      ],
      "metadata": {
        "id": "RgJVGztXk9mZ",
        "collapsed": true
      },
      "execution_count": null,
      "outputs": []
    },
    {
      "cell_type": "code",
      "source": [
        "model = nn.Sequential(nn.Linear(in_features = 1, out_features = 1))"
      ],
      "metadata": {
        "id": "hfFxrK4RlJEo"
      },
      "execution_count": null,
      "outputs": []
    },
    {
      "cell_type": "code",
      "source": [
        "list(model.parameters())"
      ],
      "metadata": {
        "id": "Xo6SPUaPoNNI"
      },
      "execution_count": null,
      "outputs": []
    },
    {
      "cell_type": "code",
      "source": [
        "plt.scatter(x, y)\n",
        "plt.plot(x, , '--r')"
      ],
      "metadata": {
        "id": "Cb9E4xgIVP_2"
      },
      "execution_count": null,
      "outputs": []
    },
    {
      "cell_type": "code",
      "source": [
        "loss_fn = nn.MSELoss()"
      ],
      "metadata": {
        "id": "2gt5Ep6bl7a3"
      },
      "execution_count": null,
      "outputs": []
    },
    {
      "cell_type": "code",
      "source": [
        "optimizer = optim.SGD(model.parameters(), lr = 0.01)"
      ],
      "metadata": {
        "id": "fj4Q3WXRl_3H"
      },
      "execution_count": null,
      "outputs": []
    },
    {
      "cell_type": "code",
      "source": [
        "losses = []\n",
        "for epoch in range(100):\n",
        "  #make predictions\n",
        "  yhat = model(xt.unsqueeze(1))\n",
        "  #evaluate predictions\n",
        "  loss = loss_fn(yt.unsqueeze(1), yhat)\n",
        "  #gradient descent: clear out gradient, compute new grad, step down\n",
        "  optimizer.zero_grad()\n",
        "  loss.backward()\n",
        "  optimizer.step()\n",
        "  losses.append(loss.item())\n"
      ],
      "metadata": {
        "id": "owTrxGZ9mICP"
      },
      "execution_count": null,
      "outputs": []
    },
    {
      "cell_type": "code",
      "source": [
        "plt.plot(losses)"
      ],
      "metadata": {
        "id": "9a8iwGolm6X9"
      },
      "execution_count": null,
      "outputs": []
    },
    {
      "cell_type": "code",
      "source": [
        "list(model.parameters())"
      ],
      "metadata": {
        "id": "RnaaedB3m782"
      },
      "execution_count": null,
      "outputs": []
    },
    {
      "cell_type": "code",
      "source": [
        "slope, intercept = list(model.parameters())"
      ],
      "metadata": {
        "id": "q7maT5RPK0ER"
      },
      "execution_count": null,
      "outputs": []
    },
    {
      "cell_type": "code",
      "source": [
        "slope.shape"
      ],
      "metadata": {
        "id": "AVWSAvAqLUG1"
      },
      "execution_count": null,
      "outputs": []
    },
    {
      "cell_type": "code",
      "source": [
        "intercept.shape"
      ],
      "metadata": {
        "id": "4yLvSjJ-LVax"
      },
      "execution_count": null,
      "outputs": []
    },
    {
      "cell_type": "code",
      "source": [
        "plt.scatter(x, y)\n",
        "plt.plot(x, slope.detach().numpy()[0]*x + intercept.detach().numpy(), '-r')"
      ],
      "metadata": {
        "id": "ZMxa3jngnGMg"
      },
      "execution_count": null,
      "outputs": []
    },
    {
      "cell_type": "markdown",
      "source": [
        "# Regression Example\n"
      ],
      "metadata": {
        "id": "40h30K3exSMw"
      }
    },
    {
      "cell_type": "code",
      "source": [
        "from sklearn.datasets import load_diabetes"
      ],
      "metadata": {
        "id": "47QiLkcMxWGt"
      },
      "execution_count": null,
      "outputs": []
    },
    {
      "cell_type": "code",
      "source": [
        "diabetes = load_diabetes(as_frame=True)"
      ],
      "metadata": {
        "id": "YrTqRW16xWEB"
      },
      "execution_count": null,
      "outputs": []
    },
    {
      "cell_type": "code",
      "source": [
        "diabetes.frame.head()"
      ],
      "metadata": {
        "id": "Vq7jUk-wxWAx"
      },
      "execution_count": null,
      "outputs": []
    },
    {
      "cell_type": "code",
      "source": [
        "X = diabetes.data\n",
        "y = diabetes.target"
      ],
      "metadata": {
        "id": "6XR82nYMxV-v"
      },
      "execution_count": null,
      "outputs": []
    },
    {
      "cell_type": "code",
      "source": [
        "#turn X,y into pytorch tensors\n"
      ],
      "metadata": {
        "id": "heYyEtX9xV7Y"
      },
      "execution_count": null,
      "outputs": []
    },
    {
      "cell_type": "code",
      "source": [
        "#create a model with appropriate number of input features\n",
        "model = ''"
      ],
      "metadata": {
        "id": "pBshHuJnxV4q"
      },
      "execution_count": null,
      "outputs": []
    },
    {
      "cell_type": "code",
      "source": [
        "#create the appropriate loss function\n",
        "loss_function = ''"
      ],
      "metadata": {
        "id": "ZMgpawDpxV1a"
      },
      "execution_count": null,
      "outputs": []
    },
    {
      "cell_type": "code",
      "source": [
        "#instantiate SGD optimizer with model's parameters\n",
        "#set lr = 0.01\n",
        "optimizer = ''"
      ],
      "metadata": {
        "id": "-9dsnVyrxVyp"
      },
      "execution_count": null,
      "outputs": []
    },
    {
      "cell_type": "code",
      "source": [
        "#train for 100 epochs and keep track of loss\n",
        "#did the network learn?\n"
      ],
      "metadata": {
        "id": "lSVQ8oP-xVvQ"
      },
      "execution_count": null,
      "outputs": []
    },
    {
      "cell_type": "code",
      "source": [
        "#what is the MSE of the model?\n"
      ],
      "metadata": {
        "id": "oiohpTiXxVA1"
      },
      "execution_count": null,
      "outputs": []
    },
    {
      "cell_type": "markdown",
      "source": [
        "### Binary Classification\n",
        "\n",
        "- output with `nn.Sigmoid` activation\n",
        "- loss function is `nn.BCELoss`\n",
        "\n",
        "Example: [Tensorflow Playground](https://playground.tensorflow.org/#activation=tanh&batchSize=10&dataset=circle&regDataset=reg-plane&learningRate=0.03&regularizationRate=0&noise=0&networkShape=4,2&seed=0.67477&showTestData=false&discretize=false&percTrainData=50&x=true&y=true&xTimesY=false&xSquared=false&ySquared=false&cosX=false&sinX=false&cosY=false&sinY=false&collectStats=false&problem=classification&initZero=false&hideText=false)"
      ],
      "metadata": {
        "id": "u-R4MlJqpQZW"
      }
    },
    {
      "cell_type": "code",
      "source": [
        "from sklearn.datasets import make_blobs"
      ],
      "metadata": {
        "id": "owWiZrljnM1M"
      },
      "execution_count": null,
      "outputs": []
    },
    {
      "cell_type": "code",
      "source": [
        "X, y = make_blobs( n_samples = 100, centers = 2, random_state = 42)"
      ],
      "metadata": {
        "id": "2u_nolYipUzz"
      },
      "execution_count": null,
      "outputs": []
    },
    {
      "cell_type": "code",
      "source": [
        "plt.scatter(X[:, 0], X[:, 1], c = y)"
      ],
      "metadata": {
        "id": "rWX2IKa3pY39"
      },
      "execution_count": null,
      "outputs": []
    },
    {
      "cell_type": "markdown",
      "source": [],
      "metadata": {
        "id": "4VxVnbkUqUN9"
      }
    },
    {
      "cell_type": "code",
      "source": [
        "model = nn.Sequential(nn.Linear(in_features = 2, out_features = 100),\n",
        "                      nn.ReLU(),\n",
        "                      nn.Linear(in_features = 100, out_features = 50),\n",
        "                      nn.ReLU(),\n",
        "                      nn.Linear(in_features = 50, out_features = 1),\n",
        "                     nn.Sigmoid())"
      ],
      "metadata": {
        "id": "6rRQLKtkpcW4"
      },
      "execution_count": null,
      "outputs": []
    },
    {
      "cell_type": "markdown",
      "source": [
        "**Loss Functions**\n",
        "\n",
        "- Regression: `nn.MSELoss()`\n",
        "- Binary Classification: `nn.BCELoss()`\n",
        "- Multiclass Classification: `nn.CategoricalCrossEntropy()`"
      ],
      "metadata": {
        "id": "LAqR6xRYqs1c"
      }
    },
    {
      "cell_type": "code",
      "source": [
        "loss_fn = nn.BCELoss()"
      ],
      "metadata": {
        "id": "IHzIIES2q5wg"
      },
      "execution_count": null,
      "outputs": []
    },
    {
      "cell_type": "code",
      "source": [
        "optimizer = optim.Adam(model.parameters(), lr = 0.01)"
      ],
      "metadata": {
        "id": "q6rsqtv8rMrI"
      },
      "execution_count": null,
      "outputs": []
    },
    {
      "cell_type": "code",
      "source": [
        "Xt = torch.tensor(X, dtype = torch.float32)\n",
        "yt = torch.tensor(y, dtype = torch.float32)"
      ],
      "metadata": {
        "id": "PBkEz0NbrbnV"
      },
      "execution_count": null,
      "outputs": []
    },
    {
      "cell_type": "code",
      "source": [
        "yt.dtype"
      ],
      "metadata": {
        "id": "AhWcBQAhrpsW"
      },
      "execution_count": null,
      "outputs": []
    },
    {
      "cell_type": "code",
      "source": [
        "model(Xt)"
      ],
      "metadata": {
        "id": "C_U1DvDtsHLI"
      },
      "execution_count": null,
      "outputs": []
    },
    {
      "cell_type": "code",
      "source": [
        "Xt.shape"
      ],
      "metadata": {
        "id": "5bndHrU7rr2K"
      },
      "execution_count": null,
      "outputs": []
    },
    {
      "cell_type": "code",
      "source": [
        "losses = []\n",
        "for epoch in range(100):\n",
        "  #make predictions\n",
        "  yhat = model(Xt)\n",
        "  #evaluate predictions\n",
        "  loss = loss_fn(yhat, yt.unsqueeze(1))\n",
        "  #gradient descent: clear out gradient, compute new grad, step down\n",
        "  optimizer.zero_grad()\n",
        "  loss.backward()\n",
        "  optimizer.step()\n",
        "  losses.append(loss.item())\n",
        "  # if epoch > 3 and abs(losses[-1] - losses[-2]) < .001:\n",
        "  #   break"
      ],
      "metadata": {
        "id": "dqaccLvVrQC_"
      },
      "execution_count": null,
      "outputs": []
    },
    {
      "cell_type": "code",
      "source": [
        "plt.plot(losses)"
      ],
      "metadata": {
        "id": "PkQgXJKPvla9"
      },
      "execution_count": null,
      "outputs": []
    },
    {
      "cell_type": "code",
      "source": [
        "list(model.parameters())"
      ],
      "metadata": {
        "id": "se3FVjZxrlqu"
      },
      "execution_count": null,
      "outputs": []
    },
    {
      "cell_type": "code",
      "source": [
        "preds = torch.where(model(Xt) > .5, 1, 0)"
      ],
      "metadata": {
        "id": "3e3_QetQtn-M"
      },
      "execution_count": null,
      "outputs": []
    },
    {
      "cell_type": "code",
      "source": [
        "torch.sum(preds.flatten() == yt.flatten())"
      ],
      "metadata": {
        "id": "pLhvuV2ctyzo"
      },
      "execution_count": null,
      "outputs": []
    },
    {
      "cell_type": "code",
      "source": [
        "100/len(yt)"
      ],
      "metadata": {
        "id": "yRNPxsTdt-fP"
      },
      "execution_count": null,
      "outputs": []
    },
    {
      "cell_type": "markdown",
      "source": [
        "Binary Classification Example"
      ],
      "metadata": {
        "id": "ueZQsUSMxOGw"
      }
    },
    {
      "cell_type": "code",
      "source": [
        "from sklearn.datasets import load_breast_cancer"
      ],
      "metadata": {
        "id": "5rEKXudixcmr"
      },
      "execution_count": null,
      "outputs": []
    },
    {
      "cell_type": "code",
      "source": [
        "cancer = load_breast_cancer(as_frame = True)"
      ],
      "metadata": {
        "id": "_o0suua1xcih"
      },
      "execution_count": null,
      "outputs": []
    },
    {
      "cell_type": "code",
      "source": [
        "X = cancer.data\n",
        "y = cancer.target"
      ],
      "metadata": {
        "id": "ko2MJ9pXxce-"
      },
      "execution_count": null,
      "outputs": []
    },
    {
      "cell_type": "code",
      "source": [
        "#create tensors\n"
      ],
      "metadata": {
        "id": "Ki_3yFzhxccB"
      },
      "execution_count": null,
      "outputs": []
    },
    {
      "cell_type": "code",
      "source": [
        "#model for binary classification\n",
        "#use one linear layer with appropriate inputs and 1 output\n",
        "#use sigmoid activation at the end\n"
      ],
      "metadata": {
        "id": "TUFabDDmMtfX"
      },
      "execution_count": null,
      "outputs": []
    },
    {
      "cell_type": "code",
      "source": [
        "#loss and optimization\n"
      ],
      "metadata": {
        "id": "KqP0EW7sxcYn"
      },
      "execution_count": null,
      "outputs": []
    },
    {
      "cell_type": "code",
      "source": [
        "#train the model\n"
      ],
      "metadata": {
        "id": "Jb9beSjIZ4kw"
      },
      "execution_count": null,
      "outputs": []
    },
    {
      "cell_type": "code",
      "source": [
        "#did it learn?\n"
      ],
      "metadata": {
        "id": "C7a4GoG6M5NA"
      },
      "execution_count": null,
      "outputs": []
    },
    {
      "cell_type": "markdown",
      "source": [
        "### Multi-Class Classification\n",
        "\n",
        "- Output Layer: Output is shape (n classes,)\n",
        "- Loss Function: `nn.CrossEntropyLoss`"
      ],
      "metadata": {
        "id": "xjAt0zb8xdTT"
      }
    },
    {
      "cell_type": "code",
      "source": [
        "from torchvision.datasets import FashionMNIST"
      ],
      "metadata": {
        "id": "W4vq6hH8xgqB"
      },
      "execution_count": null,
      "outputs": []
    },
    {
      "cell_type": "code",
      "source": [
        "import torch.nn as nn\n",
        "import torch.optim as optim\n",
        "import torch\n",
        "import matplotlib.pyplot as plt"
      ],
      "metadata": {
        "id": "dv4wbpzrxgmt"
      },
      "execution_count": null,
      "outputs": []
    },
    {
      "cell_type": "code",
      "source": [
        "train = FashionMNIST('.', download=True)"
      ],
      "metadata": {
        "id": "buWBoHp4xgkX"
      },
      "execution_count": null,
      "outputs": []
    },
    {
      "cell_type": "code",
      "source": [
        "plt.imshow(train[0][0], cmap = 'gray')"
      ],
      "metadata": {
        "id": "N2XVVfF-xghY"
      },
      "execution_count": null,
      "outputs": []
    },
    {
      "cell_type": "code",
      "source": [
        "train[0][0].size"
      ],
      "metadata": {
        "id": "ResGX9T9xgeI"
      },
      "execution_count": null,
      "outputs": []
    },
    {
      "cell_type": "code",
      "source": [
        "from torchvision.transforms import Compose, ToTensor, Normalize"
      ],
      "metadata": {
        "id": "bz3OtdKBxgbH"
      },
      "execution_count": null,
      "outputs": []
    },
    {
      "cell_type": "code",
      "source": [
        "transforms = Compose([ToTensor(), Normalize((0.5,), (0.5,))])"
      ],
      "metadata": {
        "id": "6zHbnR_Uxf8h"
      },
      "execution_count": null,
      "outputs": []
    },
    {
      "cell_type": "code",
      "source": [
        "train = FashionMNIST('.', download=True, transform = transforms)"
      ],
      "metadata": {
        "id": "IxPmJrqVykID"
      },
      "execution_count": null,
      "outputs": []
    },
    {
      "cell_type": "code",
      "source": [
        "train[0][0].shape"
      ],
      "metadata": {
        "id": "y0L0W5spypvz"
      },
      "execution_count": null,
      "outputs": []
    },
    {
      "cell_type": "code",
      "source": [
        "model = nn.Sequential(nn.Flatten(),\n",
        "                      nn.Linear(28*28, 128),\n",
        "                      nn.ReLU(),\n",
        "                      nn.Linear(128, 256),\n",
        "                      nn.ReLU(),\n",
        "                      nn.Linear(256, 128),\n",
        "                      nn.ReLU(),\n",
        "                      nn.Linear(128, 10))"
      ],
      "metadata": {
        "id": "eZm9mJ3QytLR"
      },
      "execution_count": null,
      "outputs": []
    },
    {
      "cell_type": "code",
      "source": [
        "optimizer = optim.SGD(model.parameters(), lr = 0.01)\n",
        "loss_fn = nn.CrossEntropyLoss()"
      ],
      "metadata": {
        "id": "3QvrYHnSy94R"
      },
      "execution_count": null,
      "outputs": []
    },
    {
      "cell_type": "markdown",
      "source": [
        "### Using the `DataLoader`\n",
        "\n",
        "Rather than passing the entire dataset through the model each pass, it is more efficient to repeatedly pass smaller batches of randomly selected points.  PyTorch offers the `DataLoader` to create these batches and we can iterate over the loader to extract these random batches."
      ],
      "metadata": {
        "id": "PGsjFlY6NACa"
      }
    },
    {
      "cell_type": "code",
      "source": [
        "from torch.utils.data import DataLoader\n",
        "from tqdm import tqdm"
      ],
      "metadata": {
        "id": "NYJPz_Q1zTzR"
      },
      "execution_count": null,
      "outputs": []
    },
    {
      "cell_type": "code",
      "source": [
        "trainloader = DataLoader(train, batch_size = 32)"
      ],
      "metadata": {
        "id": "fKKYZ7oDzN2-"
      },
      "execution_count": null,
      "outputs": []
    },
    {
      "cell_type": "code",
      "source": [
        "losses = []\n",
        "for i in tqdm(range(20)):\n",
        "  for X, y in trainloader:\n",
        "    yhat = model(X)\n",
        "    loss = loss_fn(yhat, y)\n",
        "    optimizer.zero_grad()\n",
        "    loss.backward()\n",
        "    optimizer.step()\n",
        "  losses.append(loss.item())"
      ],
      "metadata": {
        "id": "0oFHL4jpzGUd"
      },
      "execution_count": null,
      "outputs": []
    },
    {
      "cell_type": "code",
      "source": [
        "correct = 0\n",
        "total = 0\n",
        "for x, y in trainloader:\n",
        "  yhat = model(x)\n",
        "  correct += (torch.argmax(yhat, dim = 1) == y).sum()\n",
        "  total += len(y)"
      ],
      "metadata": {
        "id": "o3iqMwXzzoKy"
      },
      "execution_count": null,
      "outputs": []
    },
    {
      "cell_type": "code",
      "source": [
        "correct/total"
      ],
      "metadata": {
        "id": "xsy48kWj7fAA"
      },
      "execution_count": null,
      "outputs": []
    },
    {
      "cell_type": "markdown",
      "source": [
        "### Multi-Class Exercise\n",
        "\n",
        "Below, build a neural network to classify iris flowers."
      ],
      "metadata": {
        "id": "3CJBGoA7Na2h"
      }
    },
    {
      "cell_type": "code",
      "source": [
        "from sklearn.datasets import load_iris"
      ],
      "metadata": {
        "id": "Ev9yBvdI7mmt"
      },
      "execution_count": null,
      "outputs": []
    },
    {
      "cell_type": "code",
      "source": [
        "iris = load_iris(as_frame = True)"
      ],
      "metadata": {
        "id": "0_AjtV6iNnUf"
      },
      "execution_count": null,
      "outputs": []
    },
    {
      "cell_type": "code",
      "source": [
        "X = iris.data\n",
        "y = iris.target"
      ],
      "metadata": {
        "id": "-7duKpuZNptp"
      },
      "execution_count": null,
      "outputs": []
    },
    {
      "cell_type": "code",
      "source": [],
      "metadata": {
        "id": "2_A_qO0DNwkc"
      },
      "execution_count": null,
      "outputs": []
    },
    {
      "cell_type": "code",
      "source": [],
      "metadata": {
        "id": "dhs95gHDNwgi"
      },
      "execution_count": null,
      "outputs": []
    },
    {
      "cell_type": "code",
      "source": [],
      "metadata": {
        "id": "VDGGhVoJNwc5"
      },
      "execution_count": null,
      "outputs": []
    },
    {
      "cell_type": "code",
      "source": [],
      "metadata": {
        "id": "_ZjNI9CGNwZO"
      },
      "execution_count": null,
      "outputs": []
    },
    {
      "cell_type": "code",
      "source": [],
      "metadata": {
        "id": "zaI64JvoNwV3"
      },
      "execution_count": null,
      "outputs": []
    },
    {
      "cell_type": "code",
      "source": [],
      "metadata": {
        "id": "QZ3QaT9TNvDC"
      },
      "execution_count": null,
      "outputs": []
    }
  ]
}